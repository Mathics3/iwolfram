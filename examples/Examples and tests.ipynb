{
 "cells": [
  {
   "cell_type": "code",
   "execution_count": 37,
   "metadata": {
    "ExecuteTime": {
     "end_time": "2016-11-03T10:05:37.076712",
     "start_time": "2016-11-03T10:05:36.955556"
    }
   },
   "outputs": [
    {
     "data": {
      "text/plain": [
       "Mathics 2.0.1.dev on CPython 3.9.1 (default, Dec 11 2020, 14:32:07)  using SymPy 1.7.1, mpmath 1.1.0, cython 0.29.22"
      ]
     },
     "execution_count": 37,
     "metadata": {},
     "output_type": "execute_result"
    }
   ],
   "source": [
    "$Version\n",
    "\n"
   ]
  },
  {
   "cell_type": "code",
   "execution_count": 55,
   "metadata": {
    "ExecuteTime": {
     "end_time": "2016-11-03T10:05:38.333283",
     "start_time": "2016-11-03T10:05:37.635781"
    }
   },
   "outputs": [
    {
     "name": "stdout",
     "output_type": "stream",
     "text": [
      "Hello World\n"
     ]
    },
    {
     "name": "stderr",
     "output_type": "stream",
     "text": [
      "\u001b[0;31mPower::infy: Infinite expression 1 / 0 encountered.\n",
      "\u001b[0m"
     ]
    },
    {
     "data": {
      "text/plain": [
       "ExpIntegralEi[x*exp_polar[I*Pi]]"
      ]
     },
     "execution_count": 53,
     "metadata": {},
     "output_type": "execute_result"
    },
    {
     "name": "stderr",
     "output_type": "stream",
     "text": [
      "\u001b[0;31mPower::infy: Infinite expression 1 / 0 encountered.\n",
      "\u001b[0m"
     ]
    },
    {
     "data": {
      "text/plain": [
       "{\"Hello World\", ComplexInfinity, Integrate[f[x], {x, 0, 2}]}"
      ]
     },
     "execution_count": 54,
     "metadata": {},
     "output_type": "execute_result"
    },
    {
     "data": {
      "text/latex": [
       "$\\left(\\begin{array}{c} \\text{Hello World}\\\\ \\text{ComplexInfinity}\\\\ \\int_0^2 f\\left[x\\right] \\, dx\\end{array}\\right)$"
      ],
      "text/plain": [
       "<IPython.core.display.Latex object>"
      ]
     },
     "execution_count": 55,
     "metadata": {},
     "output_type": "execute_result"
    }
   ],
   "source": [
    "a = \"Hello World\";\n",
    "\n",
    "Print[a]\n",
    "\n",
    "b= {1/0,1/0};\n",
    "\n",
    "Integrate[Exp[-x]/x,x]\n",
    "\n",
    "\n",
    "{a,1/0, Integrate[f[x],{x,0,2}]}\n",
    "\n",
    "{a,ComplexInfinity, Integrate[f[x],{x,0,2}]}//MatrixForm"
   ]
  },
  {
   "cell_type": "code",
   "execution_count": 101,
   "metadata": {},
   "outputs": [
    {
     "data": {
      "text/latex": [
       "$\\left(\\begin{array}{c} 1\\\\ \\int g\\left(x\\right) \\, dx\\\\ g^{\\left(1,0\\right)}\\left(x,y\\right)\\end{array}\\right)$"
      ],
      "text/plain": [
       "<IPython.core.display.Latex object>"
      ]
     },
     "execution_count": 100,
     "metadata": {},
     "output_type": "execute_result"
    },
    {
     "data": {
      "text/latex": [
       "$\\left(\\begin{array}{c} 1\\\\ \\int g\\left[x\\right] \\, dx\\\\ g^{\\left(1,0\\right)}\\left[x,y\\right]\\end{array}\\right)$"
      ],
      "text/plain": [
       "<IPython.core.display.Latex object>"
      ]
     },
     "execution_count": 101,
     "metadata": {},
     "output_type": "execute_result"
    }
   ],
   "source": [
    "System`TraditionalForm/@{1,Integrate[g[x],x],D[g[x,y],x]}//MatrixForm\n",
    "\n",
    "\n",
    "System`StandardForm/@{1,Integrate[g[x],x],D[g[x,y],x]}//MatrixForm"
   ]
  },
  {
   "cell_type": "markdown",
   "metadata": {},
   "source": [
    "# Information related commands"
   ]
  },
  {
   "cell_type": "code",
   "execution_count": 79,
   "metadata": {
    "ExecuteTime": {
     "end_time": "2016-11-03T10:05:40.546522",
     "start_time": "2016-11-03T10:05:40.437038"
    }
   },
   "outputs": [],
   "source": [
    "? Plus"
   ]
  },
  {
   "cell_type": "code",
   "execution_count": 80,
   "metadata": {
    "ExecuteTime": {
     "end_time": "2016-11-03T10:05:41.122035",
     "start_time": "2016-11-03T10:05:41.016081"
    }
   },
   "outputs": [],
   "source": [
    "?? Plus"
   ]
  },
  {
   "cell_type": "code",
   "execution_count": 85,
   "metadata": {
    "ExecuteTime": {
     "end_time": "2016-11-03T10:05:41.941371",
     "start_time": "2016-11-03T10:05:41.605769"
    }
   },
   "outputs": [
    {
     "data": {
      "text/plain": [
       "f[x,y] gives a R^2->R example function "
      ]
     },
     "execution_count": 84,
     "metadata": {},
     "output_type": "execute_result"
    },
    {
     "data": {
      "text/plain": [
       "0.06941201731493754"
      ]
     },
     "execution_count": 85,
     "metadata": {},
     "output_type": "execute_result"
    },
    {
     "name": "stdout",
     "output_type": "stream",
     "text": [
      "\"f[x,y] gives a R^2->R example function \"\n",
      "f[x_, y_] = Sin[x] / (x^2 + y^2 + 0.1)\n",
      "\n"
     ]
    }
   ],
   "source": [
    "f[x_,y_]:= Sin[x]/(x^2+y^2+.1)\n",
    "\n",
    "\n",
    "f::usage = \"f[x,y] gives a R^2->R example function \"\n",
    "\n",
    "\n",
    "f[2.,3.]\n",
    "\n",
    "\n",
    "??f"
   ]
  },
  {
   "cell_type": "code",
   "execution_count": 86,
   "metadata": {},
   "outputs": [],
   "source": [
    "?? f"
   ]
  },
  {
   "cell_type": "code",
   "execution_count": 87,
   "metadata": {},
   "outputs": [
    {
     "name": "stdout",
     "output_type": "stream",
     "text": [
      "\"f[x,y] gives a R^2->R example function \"\n",
      "f[x_, y_] = Sin[x] / (x^2 + y^2 + 0.1)\n",
      "\n"
     ]
    }
   ],
   "source": [
    "Information[f,LongForm->True]"
   ]
  },
  {
   "cell_type": "markdown",
   "metadata": {},
   "source": [
    "# Graphics"
   ]
  },
  {
   "cell_type": "code",
   "execution_count": 77,
   "metadata": {
    "ExecuteTime": {
     "end_time": "2016-11-03T10:05:46.062603",
     "start_time": "2016-11-03T10:05:43.381682"
    },
    "scrolled": true
   },
   "outputs": [
    {
     "data": {
      "text/plain": [
       "Jupyter`Private`JupyterReturn3DImage"
      ]
     },
     "execution_count": 75,
     "metadata": {},
     "output_type": "execute_result"
    },
    {
     "name": "stderr",
     "output_type": "stream",
     "text": [
      "\u001b[0;31mExportString::optx: ImageSize -> 300 is not a supported option for ExportString[].\n",
      "\u001b[0m"
     ]
    },
    {
     "data": {
      "text/html": [
       "<center><img class='unconfined' src=\"data:image/png;base64,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\"></img></center>"
      ],
      "text/plain": [
       "<IPython.core.display.HTML object>"
      ]
     },
     "metadata": {},
     "output_type": "display_data"
    },
    {
     "data": {
      "text/plain": [
       "- graphics -\n"
      ]
     },
     "execution_count": 76,
     "metadata": {},
     "output_type": "execute_result"
    },
    {
     "name": "stderr",
     "output_type": "stream",
     "text": [
      "\u001b[0;31mExportString::optx: ImageSize -> 300 is not a supported option for ExportString[].\n",
      "\u001b[0m"
     ]
    },
    {
     "data": {
      "text/html": [
       "<center><img class='unconfined' src=\"data:image/png;base64,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\"></img></center>"
      ],
      "text/plain": [
       "<IPython.core.display.HTML object>"
      ]
     },
     "metadata": {},
     "output_type": "display_data"
    },
    {
     "data": {
      "text/plain": [
       "- graphics3D -:- graphics3D -\n"
      ]
     },
     "execution_count": 77,
     "metadata": {},
     "output_type": "execute_result"
    },
    {
     "name": "stderr",
     "output_type": "stream",
     "text": [
      "\u001b[0;31mExportString::optx: ImageSize -> 300 is not a supported option for ExportString[].\n",
      "\u001b[0m"
     ]
    },
    {
     "name": "stdout",
     "output_type": "stream",
     "text": [
      "System`Convert`Image`ExportToPNG::asyfld: Asymptote failed to generate the file\n",
      "\n"
     ]
    }
   ],
   "source": [
    "SetImagesWidth[500];\n",
    "SetImageOutputFormat[\"png\"]\n",
    "\n",
    "\n",
    "InteractiveGraphics3D[\"Off\"]\n",
    "\n",
    "\n",
    "G2 = Plot[f[x,0],{x,0,2}]\n",
    "\n",
    "\n",
    "G3 = Plot3D[f[x,y],{x,0,2},{y,0,2}]\n",
    "\n",
    "Jupyter`SetImagesWidth[800];\n",
    "\n",
    "\n",
    "{{\"Section\",G2},{\"Full\",G3}}\n"
   ]
  },
  {
   "cell_type": "code",
   "execution_count": 26,
   "metadata": {},
   "outputs": [
    {
     "data": {
      "text/plain": [
       "Jupyter`Private`JupyterReturn3DImage"
      ]
     },
     "execution_count": 23,
     "metadata": {},
     "output_type": "execute_result"
    },
    {
     "name": "stderr",
     "output_type": "stream",
     "text": [
      "\u001b[0;31mExportString::optx: ImageSize -> 300 is not a supported option for ExportString[].\n",
      "\u001b[0m"
     ]
    },
    {
     "data": {
      "text/html": [
       "<center><img class='unconfined' src=\"data:image/png;base64,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\"></img></center>"
      ],
      "text/plain": [
       "<IPython.core.display.HTML object>"
      ]
     },
     "metadata": {},
     "output_type": "display_data"
    },
    {
     "data": {
      "text/plain": [
       "- graphics3D -:- graphics3D -\n"
      ]
     },
     "execution_count": 25,
     "metadata": {},
     "output_type": "execute_result"
    },
    {
     "name": "stderr",
     "output_type": "stream",
     "text": [
      "\u001b[0;31mExportString::optx: ImageSize -> 300 is not a supported option for ExportString[].\n",
      "\u001b[0m"
     ]
    },
    {
     "data": {
      "text/html": [
       "<center><img class='unconfined' src=\"data:image/png;base64,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\"></img></center>"
      ],
      "text/plain": [
       "<IPython.core.display.HTML object>"
      ]
     },
     "metadata": {},
     "output_type": "display_data"
    },
    {
     "data": {
      "text/plain": [
       "- graphics3D -:- graphics3D -\n"
      ]
     },
     "execution_count": 26,
     "metadata": {},
     "output_type": "execute_result"
    }
   ],
   "source": [
    "InteractiveGraphics3D[\"Off\"]\n",
    "\n",
    "SetImageOutputFormat[\"png\"]\n",
    "\n",
    "Plot3D[f[x,y],{x,0,2},{y,0,2}]\n",
    "\n",
    "\n",
    "\n",
    "InteractiveGraphics3D[\"Off\"];\n",
    "SetImageOutputFormat[\"svg\"];\n",
    "Plot3D[f[x,y],{x,0,2},{y,0,2}]"
   ]
  },
  {
   "cell_type": "markdown",
   "metadata": {},
   "source": [
    "# Exclusive for WMA"
   ]
  },
  {
   "cell_type": "code",
   "execution_count": 36,
   "metadata": {
    "ExecuteTime": {
     "end_time": "2016-11-03T10:06:01.484029",
     "start_time": "2016-11-03T10:06:01.280664"
    }
   },
   "outputs": [
    {
     "data": {
      "text/plain": [
       "Play[Sin[880*Pi*t], {t, 0, 2}]"
      ]
     },
     "execution_count": 36,
     "metadata": {},
     "output_type": "execute_result"
    }
   ],
   "source": [
    "Play[Sin[2*Pi*440 t],{t,0,2}]"
   ]
  },
  {
   "cell_type": "markdown",
   "metadata": {},
   "source": [
    "## Syntax Error examples"
   ]
  },
  {
   "cell_type": "code",
   "execution_count": 33,
   "metadata": {
    "ExecuteTime": {
     "end_time": "2016-11-03T10:07:53.070036",
     "start_time": "2016-11-03T10:07:53.068216"
    },
    "code_folding": []
   },
   "outputs": [
    {
     "name": "stderr",
     "output_type": "stream",
     "text": [
      "\u001b[0;31mSyntax::sntxf: \"Identity[(f[sdfdsf\" cannot be followed by \")]]\" (line 1 of \"\").\n",
      "\u001b[0m"
     ]
    },
    {
     "data": {
      "text/plain": [
       "$Failed"
      ]
     },
     "execution_count": 32,
     "metadata": {},
     "output_type": "execute_result"
    },
    {
     "data": {
      "text/plain": [
       "4"
      ]
     },
     "execution_count": 33,
     "metadata": {},
     "output_type": "execute_result"
    }
   ],
   "source": [
    "(f[sdfdsf)]\n",
    "\n",
    "2+2"
   ]
  },
  {
   "cell_type": "code",
   "execution_count": 35,
   "metadata": {
    "ExecuteTime": {
     "end_time": "2016-11-03T10:07:27.361187",
     "start_time": "2016-11-03T10:07:27.358200"
    }
   },
   "outputs": [
    {
     "name": "stderr",
     "output_type": "stream",
     "text": [
      "\u001b[0;31mSyntax::sntxf: \"Identity[{ssdfdsf\" cannot be followed by \"]\" (line 1 of \"\").\n",
      "\u001b[0m"
     ]
    },
    {
     "data": {
      "text/plain": [
       "$Failed"
      ]
     },
     "execution_count": 34,
     "metadata": {},
     "output_type": "execute_result"
    },
    {
     "data": {
      "text/plain": [
       "4"
      ]
     },
     "execution_count": 35,
     "metadata": {},
     "output_type": "execute_result"
    }
   ],
   "source": [
    "{ssdfdsf\n",
    "\n",
    "\n",
    "2+2"
   ]
  },
  {
   "cell_type": "code",
   "execution_count": 37,
   "metadata": {
    "ExecuteTime": {
     "end_time": "2016-11-03T10:07:31.507989",
     "start_time": "2016-11-03T10:07:31.505644"
    }
   },
   "outputs": [
    {
     "name": "stderr",
     "output_type": "stream",
     "text": [
      "\u001b[0;31m('Syntax::sntxi', -1, 'sntxi')\n",
      "\u001b[0m"
     ]
    },
    {
     "data": {
      "text/plain": [
       "null:"
      ]
     },
     "execution_count": 37,
     "metadata": {},
     "output_type": "execute_result"
    }
   ],
   "source": [
    "\"sdfsdf\n",
    "\n",
    "\n"
   ]
  },
  {
   "cell_type": "code",
   "execution_count": null,
   "metadata": {},
   "outputs": [],
   "source": []
  },
  {
   "cell_type": "code",
   "execution_count": null,
   "metadata": {},
   "outputs": [],
   "source": []
  },
  {
   "cell_type": "code",
   "execution_count": null,
   "metadata": {},
   "outputs": [],
   "source": []
  },
  {
   "cell_type": "code",
   "execution_count": null,
   "metadata": {},
   "outputs": [],
   "source": []
  }
 ],
 "metadata": {
  "hide_input": false,
  "kernelspec": {
   "display_name": "Wolfram Mathematica",
   "language": "mathematica",
   "name": "wolfram_kernel"
  },
  "language_info": {
   "codemirror_mode": "mathematica",
   "exec": "/home/mauricio/.conda/envs/mathics3/bin/mathics",
   "file_extension": ".m",
   "help_links": [
    {
     "text": "MetaKernel Magics",
     "url": "https://metakernel.readthedocs.io/en/latest/source/README.html"
    }
   ],
   "mimetype": "text/x-mathics",
   "name": "Mathematica",
   "version": "0.0.0"
  },
  "toc": {
   "toc_cell": false,
   "toc_number_sections": true,
   "toc_threshold": 6,
   "toc_window_display": false
  }
 },
 "nbformat": 4,
 "nbformat_minor": 1
}
