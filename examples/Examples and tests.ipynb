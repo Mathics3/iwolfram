{
 "cells": [
  {
   "cell_type": "code",
   "execution_count": 2,
   "metadata": {
    "ExecuteTime": {
     "end_time": "2016-11-03T10:05:37.076712",
     "start_time": "2016-11-03T10:05:36.955556"
    }
   },
   "outputs": [
    {
     "data": {
      "text/plain": [
       "Mathics 2.0.1.dev on CPython 3.9.1 (default, Dec 11 2020, 14:32:07)  using SymPy 1.7.1, mpmath 1.1.0, cython 0.29.22"
      ]
     },
     "execution_count": 1,
     "metadata": {},
     "output_type": "execute_result"
    },
    {
     "data": {
      "text/plain": [
       "pymathics.asy"
      ]
     },
     "execution_count": 2,
     "metadata": {},
     "output_type": "execute_result"
    }
   ],
   "source": [
    "$Version\n",
    "\n",
    "LoadModule[\"pymathics.asy\"]"
   ]
  },
  {
   "cell_type": "code",
   "execution_count": 8,
   "metadata": {
    "ExecuteTime": {
     "end_time": "2016-11-03T10:05:38.333283",
     "start_time": "2016-11-03T10:05:37.635781"
    }
   },
   "outputs": [
    {
     "name": "stdout",
     "output_type": "stream",
     "text": [
      "Hello World\n"
     ]
    },
    {
     "name": "stderr",
     "output_type": "stream",
     "text": [
      "\u001b[0;31mPower::infy: Infinite expression 1 / 0 encountered.\n",
      "\u001b[0m"
     ]
    },
    {
     "data": {
      "text/plain": [
       "ExpIntegralEi[x*exp_polar[I*Pi]]"
      ]
     },
     "execution_count": 6,
     "metadata": {},
     "output_type": "execute_result"
    },
    {
     "data": {
      "text/plain": [
       "{\"Hello World\", {ComplexInfinity, ComplexInfinity}, Integrate[f[x], {x, 0, 2}]}"
      ]
     },
     "execution_count": 7,
     "metadata": {},
     "output_type": "execute_result"
    },
    {
     "data": {
      "text/latex": [
       "$\\left(\\begin{array}{c} \\text{Hello World}\\\\ \\text{ComplexInfinity}\\\\ \\int_0^2 f\\left[x\\right] \\, dx\\end{array}\\right)$"
      ],
      "text/plain": [
       "<IPython.core.display.Latex object>"
      ]
     },
     "execution_count": 8,
     "metadata": {},
     "output_type": "execute_result"
    }
   ],
   "source": [
    "a = \"Hello World\";\n",
    "\n",
    "Print[a]\n",
    "\n",
    "b= {1/0,1/0};\n",
    "\n",
    "Integrate[Exp[-x]/x,x]\n",
    "\n",
    "\n",
    "{a,b, Integrate[f[x],{x,0,2}]}\n",
    "\n",
    "{a,ComplexInfinity, Integrate[f[x],{x,0,2}]}//MatrixForm"
   ]
  },
  {
   "cell_type": "code",
   "execution_count": 9,
   "metadata": {
    "ExecuteTime": {
     "end_time": "2016-11-03T10:05:40.546522",
     "start_time": "2016-11-03T10:05:40.437038"
    }
   },
   "outputs": [],
   "source": [
    "? Plus"
   ]
  },
  {
   "cell_type": "code",
   "execution_count": 10,
   "metadata": {
    "ExecuteTime": {
     "end_time": "2016-11-03T10:05:41.122035",
     "start_time": "2016-11-03T10:05:41.016081"
    }
   },
   "outputs": [],
   "source": [
    "?? Plus"
   ]
  },
  {
   "cell_type": "code",
   "execution_count": 13,
   "metadata": {
    "ExecuteTime": {
     "end_time": "2016-11-03T10:05:41.941371",
     "start_time": "2016-11-03T10:05:41.605769"
    }
   },
   "outputs": [
    {
     "name": "stdout",
     "output_type": "stream",
     "text": [
      "failed to decode string:Zlt4LHldIGdpdmVzIGEgUl4yLT5SIGV4YW1wbGUgZnVuY3Rpb24g\n",
      "M:17:Out[12]= Null\n"
     ]
    },
    {
     "data": {
      "text/plain": [
       "0.06941201731493754"
      ]
     },
     "execution_count": 13,
     "metadata": {},
     "output_type": "execute_result"
    },
    {
     "name": "stderr",
     "output_type": "stream",
     "text": [
      "\u001b[0;31m\"f[x,y] gives a R^2->R example function \"\n",
      "\u001b[0m"
     ]
    }
   ],
   "source": [
    "f[x_,y_]:= Sin[x]/(x^2+y^2+.1)\n",
    "\n",
    "\n",
    "f::usage = \"f[x,y] gives a R^2->R example function \"\n",
    "\n",
    "\n",
    "f[2.,3.]\n",
    "\n",
    "\n",
    "??f"
   ]
  },
  {
   "cell_type": "code",
   "execution_count": 17,
   "metadata": {
    "ExecuteTime": {
     "end_time": "2016-11-03T10:05:46.062603",
     "start_time": "2016-11-03T10:05:43.381682"
    },
    "scrolled": true
   },
   "outputs": [
    {
     "data": {
      "text/plain": [
       "Jypyter`SetImageOutputFormat[\"png\"]"
      ]
     },
     "execution_count": 15,
     "metadata": {},
     "output_type": "execute_result"
    },
    {
     "name": "stderr",
     "output_type": "stream",
     "text": [
      "\u001b[0;31mExportString::optx: ImageSize -> 300 is not a supported option for ExportString[].\n",
      "\u001b[0m"
     ]
    },
    {
     "data": {
      "image/svg+xml": [
       "<svg xmlns=\"http://www.w3.org/2000/svg\" xmlns:xlink=\"http://www.w3.org/1999/xlink\" version=\"1.1\" width=\"188.9776pt\" height=\"113.0657pt\" viewBox=\"56.4094 53.8583 188.9776 113.0657\">\n",
       "<defs>\n",
       "<path id=\"g0-58\" d=\"M2.199751-.573848C2.199751-.920548 1.912827-1.159651 1.625903-1.159651C1.279203-1.159651 1.0401-.872727 1.0401-.585803C1.0401-.239103 1.327024 0 1.613948 0C1.960648 0 2.199751-.286924 2.199751-.573848Z\"/>\n",
       "<path id=\"g1-48\" d=\"M5.355915-3.825654C5.355915-4.817933 5.296139-5.786301 4.865753-6.694894C4.375592-7.687173 3.514819-7.950187 2.929016-7.950187C2.235616-7.950187 1.3868-7.603487 .944458-6.611208C.609714-5.858032 .490162-5.116812 .490162-3.825654C.490162-2.666002 .573848-1.793275 1.004234-.944458C1.470486-.035866 2.295392 .251059 2.917061 .251059C3.957161 .251059 4.554919-.37061 4.901619-1.06401C5.332005-1.960648 5.355915-3.132254 5.355915-3.825654ZM2.917061 .011955C2.534496 .011955 1.75741-.203238 1.530262-1.506351C1.398755-2.223661 1.398755-3.132254 1.398755-3.969116C1.398755-4.94944 1.398755-5.834122 1.590037-6.539477C1.793275-7.340473 2.402989-7.711083 2.917061-7.711083C3.371357-7.711083 4.064757-7.436115 4.291905-6.40797C4.447323-5.726526 4.447323-4.782067 4.447323-3.969116C4.447323-3.16812 4.447323-2.259527 4.315816-1.530262C4.088667-.215193 3.335492 .011955 2.917061 .011955Z\"/>\n",
       "<path id=\"g1-49\" d=\"M3.443088-7.663263C3.443088-7.938232 3.443088-7.950187 3.203985-7.950187C2.917061-7.627397 2.319303-7.185056 1.08792-7.185056V-6.838356C1.362889-6.838356 1.960648-6.838356 2.618182-7.149191V-.920548C2.618182-.490162 2.582316-.3467 1.530262-.3467H1.159651V0C1.482441-.02391 2.642092-.02391 3.036613-.02391S4.578829-.02391 4.901619 0V-.3467H4.531009C3.478954-.3467 3.443088-.490162 3.443088-.920548V-7.663263Z\"/>\n",
       "<path id=\"g1-50\" d=\"M5.260274-2.008468H4.99726C4.961395-1.80523 4.865753-1.147696 4.746202-.956413C4.662516-.848817 3.981071-.848817 3.622416-.848817H1.41071C1.733499-1.123786 2.462765-1.888917 2.773599-2.175841C4.590785-3.849564 5.260274-4.471233 5.260274-5.654795C5.260274-7.029639 4.172354-7.950187 2.785554-7.950187S.585803-6.766625 .585803-5.738481C.585803-5.128767 1.111831-5.128767 1.147696-5.128767C1.398755-5.128767 1.709589-5.308095 1.709589-5.69066C1.709589-6.025405 1.482441-6.252553 1.147696-6.252553C1.0401-6.252553 1.016189-6.252553 .980324-6.240598C1.207472-7.053549 1.853051-7.603487 2.630137-7.603487C3.646326-7.603487 4.267995-6.75467 4.267995-5.654795C4.267995-4.638605 3.682192-3.753923 3.000747-2.988792L.585803-.286924V0H4.94944L5.260274-2.008468Z\"/>\n",
       "<path id=\"g1-53\" d=\"M1.530262-6.850311C2.044334-6.682939 2.462765-6.670984 2.594271-6.670984C3.945205-6.670984 4.805978-7.663263 4.805978-7.830635C4.805978-7.878456 4.782067-7.938232 4.710336-7.938232C4.686426-7.938232 4.662516-7.938232 4.554919-7.890411C3.88543-7.603487 3.311582-7.567621 3.000747-7.567621C2.211706-7.567621 1.649813-7.806725 1.422665-7.902366C1.338979-7.938232 1.315068-7.938232 1.303113-7.938232C1.207472-7.938232 1.207472-7.866501 1.207472-7.675218V-4.124533C1.207472-3.90934 1.207472-3.837609 1.350934-3.837609C1.41071-3.837609 1.422665-3.849564 1.542217-3.993026C1.876961-4.483188 2.438854-4.770112 3.036613-4.770112C3.670237-4.770112 3.981071-4.184309 4.076712-3.981071C4.27995-3.514819 4.291905-2.929016 4.291905-2.47472S4.291905-1.338979 3.957161-.800996C3.694147-.37061 3.227895-.071731 2.701868-.071731C1.912827-.071731 1.135741-.609714 .920548-1.482441C.980324-1.458531 1.052055-1.446575 1.111831-1.446575C1.315068-1.446575 1.637858-1.566127 1.637858-1.972603C1.637858-2.307347 1.41071-2.49863 1.111831-2.49863C.896638-2.49863 .585803-2.391034 .585803-1.924782C.585803-.908593 1.398755 .251059 2.725778 .251059C4.076712 .251059 5.260274-.884682 5.260274-2.402989C5.260274-3.825654 4.303861-5.009215 3.048568-5.009215C2.367123-5.009215 1.841096-4.710336 1.530262-4.375592V-6.850311Z\"/>\n",
       "</defs>\n",
       "<g id=\"page1\">\n",
       "<g>\n",
       "<g transform=\"matrix(0.996264 0 0 0.996264 77.5085 157.542)\">\n",
       "<clipPath id=\"clip1\">\n",
       "<path d=\"M -9.43721 5.42738L 166.147 5.42738L 166.147 -104.002L -9.43721 -104.002L -9.43721 5.42738Z\"/>\n",
       "</clipPath>\n",
       "</g>\n",
       "<g transform=\"matrix(0.996264 0 0 0.996264 77.5085 157.542)\">\n",
       "<path clip-path=\"url(#clip1)\" d=\"M 0 -4.48075L 2.84823 -24.8145L 5.69654 -43.6427L 7.12047 -52.109L 8.5448 -59.8041L 9.96874 -66.6677L 10.6809 -69.7784L 11.3927 -72.6737L 12.1048 -75.3553L 12.817 -77.8263L 13.1731 -78.9839L 13.5292 -80.0904L 13.8849 -81.1467L 14.2409 -82.1536L 14.9531 -84.0213L 15.3092 -84.8846L 15.6653 -85.7012L 16.0214 -86.4732L 16.1992 -86.8425L 16.377 -87.2009L 16.7331 -87.886L 16.9114 -88.2122L 17.0003 -88.3717L 17.0892 -88.5284L 17.4453 -89.1305L 17.6231 -89.4164L 17.8014 -89.6923L 17.9792 -89.9587L 18.0681 -90.0883L 18.1575 -90.2155L 18.3353 -90.4627L 18.4242 -90.5827L 18.5135 -90.7008L 18.6914 -90.9296L 18.8692 -91.1494L 19.0475 -91.3607L 19.1364 -91.4628L 19.2253 -91.5629L 19.4036 -91.7563L 19.4925 -91.85L 19.5814 -91.9417L 19.6703 -92.031L 19.7596 -92.1183L 19.8486 -92.2037L 19.9375 -92.287L 20.2936 -92.6L 20.4714 -92.7448L 20.6496 -92.8819L 20.8275 -93.0111L 20.9164 -93.0733L 21.0057 -93.1331L 21.1836 -93.248L 21.2725 -93.3026L 21.3614 -93.3556L 21.5397 -93.4561L 21.6286 -93.504L 21.7175 -93.5498L 21.8068 -93.5941L 21.8511 -93.6156L 21.8957 -93.6368L 21.9847 -93.6774L 22.0293 -93.6974L 22.0736 -93.7169L 22.2518 -93.7903L 22.3407 -93.8246L 22.4297 -93.8573L 22.5186 -93.8888L 22.5632 -93.9035L 22.6075 -93.9183L 22.6968 -93.9462L 22.7411 -93.9597L 22.7857 -93.9729L 23.1418 -94.0642L 23.3197 -94.1009L 23.4979 -94.1316L 23.6758 -94.1571L 23.7647 -94.1679L 23.8536 -94.1771L 24.0318 -94.1914L 24.1208 -94.1966L 24.2097 -94.2006L 24.3879 -94.2046L 24.4768 -94.2046L 24.5658 -94.2034L 24.6547 -94.201L 24.6993 -94.1994L 24.744 -94.1974L 24.8329 -94.1926L 24.8772 -94.1894L 24.9218 -94.1862L 25.0997 -94.1707L 25.189 -94.1611L 25.2779 -94.1499L 25.3668 -94.138L 25.4115 -94.1316L 25.4558 -94.1252L 25.5447 -94.1109L 25.5894 -94.1033L 25.634 -94.0957L 25.9901 -94.0235L 26.1679 -93.9809L 26.3458 -93.9346L 26.524 -93.884L 26.6129 -93.8573L 26.7019 -93.8294L 26.8801 -93.7711L 26.969 -93.7404L 27.0579 -93.7089L 27.2362 -93.6431L 27.3251 -93.6088L 27.414 -93.5738L 27.503 -93.5379L 27.5919 -93.5012L 27.6812 -93.4633L 27.7701 -93.4246L 27.948 -93.3449L 28.0369 -93.3038L 28.1262 -93.2619L 28.2151 -93.2193L 28.304 -93.1758L 28.393 -93.1315L 28.4823 -93.0869L 28.838 -92.8991L 29.0162 -92.801L 29.194 -92.6997L 29.3723 -92.596L 29.4612 -92.5434L 29.5501 -92.4896L 29.7284 -92.3803L 29.9062 -92.2686L 30.2623 -92.0382L 30.4401 -91.9189L 30.6184 -91.7977L 30.9745 -91.5485L 31.1523 -91.4205L 31.2412 -91.3555L 31.3301 -91.2905L 31.6862 -91.0245L 32.0423 -90.7506L 32.3984 -90.4699L 32.7545 -90.182L 33.1106 -89.8877L 33.4666 -89.5875L 33.8223 -89.2812L 34.1784 -88.9694L 34.8906 -88.3314L 35.6028 -87.6755L 36.3145 -87.004L 37.0267 -86.3193L 38.451 -84.9161L 39.875 -83.4802L 42.722 -80.5538L 45.5731 -77.609L 48.4202 -74.6946L 51.2672 -71.8415L 54.1143 -69.071L 56.9654 -66.395L 58.3889 -65.0943L 59.8124 -63.8199L 61.236 -62.571L 62.6595 -61.3484L 64.083 -60.1518L 65.5106 -58.9806L 66.9341 -57.835L 68.3576 -56.7145L 69.7812 -55.6188L 71.2047 -54.5473L 72.6282 -53.4998L 74.0518 -52.475L 75.4793 -51.4734L 76.9028 -50.4941L 78.3264 -49.5359L 79.7499 -48.5988L 81.1734 -47.6825L 82.597 -46.7861L 84.0205 -45.9092L 85.448 -45.0511L 86.8716 -44.2114L 88.2951 -43.3895L 89.7186 -42.5853L 91.1422 -41.7977L 92.5657 -41.0265L 93.9893 -40.2713L 95.4168 -39.5317L 96.8403 -38.8071L 98.2638 -38.0971L 99.6874 -37.4015L 101.111 -36.7196L 102.534 -36.0513L 103.958 -35.3961L 105.386 -34.7536L 106.809 -34.1236L 108.233 -33.5056L 109.656 -32.8994L 111.08 -32.3047L 112.503 -31.7211L 113.927 -31.1484L 116.778 -30.0345L 119.625 -28.9609L 122.472 -27.9257L 125.323 -26.9269L 128.17 -25.9629L 131.017 -25.0323L 133.864 -24.1333L 136.715 -23.2647L 139.562 -22.4252L 142.409 -21.6136L 145.26 -20.8288L 148.108 -20.0696L 150.955 -19.3352L 153.802 -18.6246L 156.653 -17.9369L 159.5 -17.2714\" fill=\"none\" stroke=\"#3f3d99\" stroke-linecap=\"round\" stroke-linejoin=\"round\" stroke-miterlimit=\"10.0375\" stroke-width=\"0.66917\"/>\n",
       "</g>\n",
       "</g>\n",
       "<g transform=\"matrix(0.996264 0 0 0.996264 77.5085 157.542)\">\n",
       "<path d=\"M -6.37999 -4.48075L 165.88 -4.48075\" fill=\"none\" stroke=\"#000000\" stroke-linecap=\"round\" stroke-linejoin=\"round\" stroke-miterlimit=\"10.0375\" stroke-width=\"0.66917\"/>\n",
       "</g>\n",
       "<use x=\"109.759499\" y=\"165.368242\" xlink:href=\"#g1-48\"/>\n",
       "<use x=\"115.612489\" y=\"165.368242\" xlink:href=\"#g0-58\"/>\n",
       "<use x=\"118.86415\" y=\"165.368242\" xlink:href=\"#g1-53\"/>\n",
       "<use x=\"149.485465\" y=\"165.368242\" xlink:href=\"#g1-49\"/>\n",
       "<use x=\"155.338456\" y=\"165.368242\" xlink:href=\"#g0-58\"/>\n",
       "<use x=\"158.590117\" y=\"165.368242\" xlink:href=\"#g1-48\"/>\n",
       "<use x=\"189.211447\" y=\"165.368242\" xlink:href=\"#g1-49\"/>\n",
       "<use x=\"195.064437\" y=\"165.368242\" xlink:href=\"#g0-58\"/>\n",
       "<use x=\"198.316099\" y=\"165.368242\" xlink:href=\"#g1-53\"/>\n",
       "<use x=\"228.937429\" y=\"165.368242\" xlink:href=\"#g1-50\"/>\n",
       "<use x=\"234.790419\" y=\"165.368242\" xlink:href=\"#g0-58\"/>\n",
       "<use x=\"238.04208\" y=\"165.368242\" xlink:href=\"#g1-48\"/>\n",
       "<g transform=\"matrix(0.996264 0 0 0.996264 77.5085 157.542)\">\n",
       "<path d=\"M 39.875 -4.48075L 39.875 -7.13905\" fill=\"none\" stroke=\"#000000\" stroke-linecap=\"round\" stroke-linejoin=\"round\" stroke-miterlimit=\"10.0375\" stroke-width=\"0.66917\"/>\n",
       "</g>\n",
       "<g transform=\"matrix(0.996264 0 0 0.996264 77.5085 157.542)\">\n",
       "<path d=\"M 79.7499 -4.48075L 79.7499 -7.13905\" fill=\"none\" stroke=\"#000000\" stroke-linecap=\"round\" stroke-linejoin=\"round\" stroke-miterlimit=\"10.0375\" stroke-width=\"0.66917\"/>\n",
       "</g>\n",
       "<g transform=\"matrix(0.996264 0 0 0.996264 77.5085 157.542)\">\n",
       "<path d=\"M 119.625 -4.48075L 119.625 -7.13905\" fill=\"none\" stroke=\"#000000\" stroke-linecap=\"round\" stroke-linejoin=\"round\" stroke-miterlimit=\"10.0375\" stroke-width=\"0.66917\"/>\n",
       "</g>\n",
       "<g transform=\"matrix(0.996264 0 0 0.996264 77.5085 157.542)\">\n",
       "<path d=\"M 159.5 -4.48075L 159.5 -7.13905\" fill=\"none\" stroke=\"#000000\" stroke-linecap=\"round\" stroke-linejoin=\"round\" stroke-miterlimit=\"10.0375\" stroke-width=\"0.66917\"/>\n",
       "</g>\n",
       "<g transform=\"matrix(0.996264 0 0 0.996264 77.5085 157.542)\">\n",
       "<path d=\"M 7.97499 -4.48075L 7.97499 -6.07575\" fill=\"none\" stroke=\"#000000\" stroke-linecap=\"round\" stroke-linejoin=\"round\" stroke-miterlimit=\"10.0375\" stroke-width=\"0.66917\"/>\n",
       "</g>\n",
       "<g transform=\"matrix(0.996264 0 0 0.996264 77.5085 157.542)\">\n",
       "<path d=\"M 15.95 -4.48075L 15.95 -6.07575\" fill=\"none\" stroke=\"#000000\" stroke-linecap=\"round\" stroke-linejoin=\"round\" stroke-miterlimit=\"10.0375\" stroke-width=\"0.66917\"/>\n",
       "</g>\n",
       "<g transform=\"matrix(0.996264 0 0 0.996264 77.5085 157.542)\">\n",
       "<path d=\"M 23.925 -4.48075L 23.925 -6.07575\" fill=\"none\" stroke=\"#000000\" stroke-linecap=\"round\" stroke-linejoin=\"round\" stroke-miterlimit=\"10.0375\" stroke-width=\"0.66917\"/>\n",
       "</g>\n",
       "<g transform=\"matrix(0.996264 0 0 0.996264 77.5085 157.542)\">\n",
       "<path d=\"M 31.9 -4.48075L 31.9 -6.07575\" fill=\"none\" stroke=\"#000000\" stroke-linecap=\"round\" stroke-linejoin=\"round\" stroke-miterlimit=\"10.0375\" stroke-width=\"0.66917\"/>\n",
       "</g>\n",
       "<g transform=\"matrix(0.996264 0 0 0.996264 77.5085 157.542)\">\n",
       "<path d=\"M 47.8499 -4.48075L 47.8499 -6.07575\" fill=\"none\" stroke=\"#000000\" stroke-linecap=\"round\" stroke-linejoin=\"round\" stroke-miterlimit=\"10.0375\" stroke-width=\"0.66917\"/>\n",
       "</g>\n",
       "<g transform=\"matrix(0.996264 0 0 0.996264 77.5085 157.542)\">\n",
       "<path d=\"M 55.8249 -4.48075L 55.8249 -6.07575\" fill=\"none\" stroke=\"#000000\" stroke-linecap=\"round\" stroke-linejoin=\"round\" stroke-miterlimit=\"10.0375\" stroke-width=\"0.66917\"/>\n",
       "</g>\n",
       "<g transform=\"matrix(0.996264 0 0 0.996264 77.5085 157.542)\">\n",
       "<path d=\"M 63.7999 -4.48075L 63.7999 -6.07575\" fill=\"none\" stroke=\"#000000\" stroke-linecap=\"round\" stroke-linejoin=\"round\" stroke-miterlimit=\"10.0375\" stroke-width=\"0.66917\"/>\n",
       "</g>\n",
       "<g transform=\"matrix(0.996264 0 0 0.996264 77.5085 157.542)\">\n",
       "<path d=\"M 71.7749 -4.48075L 71.7749 -6.07575\" fill=\"none\" stroke=\"#000000\" stroke-linecap=\"round\" stroke-linejoin=\"round\" stroke-miterlimit=\"10.0375\" stroke-width=\"0.66917\"/>\n",
       "</g>\n",
       "<g transform=\"matrix(0.996264 0 0 0.996264 77.5085 157.542)\">\n",
       "<path d=\"M 87.7249 -4.48075L 87.7249 -6.07575\" fill=\"none\" stroke=\"#000000\" stroke-linecap=\"round\" stroke-linejoin=\"round\" stroke-miterlimit=\"10.0375\" stroke-width=\"0.66917\"/>\n",
       "</g>\n",
       "<g transform=\"matrix(0.996264 0 0 0.996264 77.5085 157.542)\">\n",
       "<path d=\"M 95.6999 -4.48075L 95.6999 -6.07575\" fill=\"none\" stroke=\"#000000\" stroke-linecap=\"round\" stroke-linejoin=\"round\" stroke-miterlimit=\"10.0375\" stroke-width=\"0.66917\"/>\n",
       "</g>\n",
       "<g transform=\"matrix(0.996264 0 0 0.996264 77.5085 157.542)\">\n",
       "<path d=\"M 103.675 -4.48075L 103.675 -6.07575\" fill=\"none\" stroke=\"#000000\" stroke-linecap=\"round\" stroke-linejoin=\"round\" stroke-miterlimit=\"10.0375\" stroke-width=\"0.66917\"/>\n",
       "</g>\n",
       "<g transform=\"matrix(0.996264 0 0 0.996264 77.5085 157.542)\">\n",
       "<path d=\"M 111.65 -4.48075L 111.65 -6.07575\" fill=\"none\" stroke=\"#000000\" stroke-linecap=\"round\" stroke-linejoin=\"round\" stroke-miterlimit=\"10.0375\" stroke-width=\"0.66917\"/>\n",
       "</g>\n",
       "<g transform=\"matrix(0.996264 0 0 0.996264 77.5085 157.542)\">\n",
       "<path d=\"M 127.6 -4.48075L 127.6 -6.07575\" fill=\"none\" stroke=\"#000000\" stroke-linecap=\"round\" stroke-linejoin=\"round\" stroke-miterlimit=\"10.0375\" stroke-width=\"0.66917\"/>\n",
       "</g>\n",
       "<g transform=\"matrix(0.996264 0 0 0.996264 77.5085 157.542)\">\n",
       "<path d=\"M 135.575 -4.48075L 135.575 -6.07575\" fill=\"none\" stroke=\"#000000\" stroke-linecap=\"round\" stroke-linejoin=\"round\" stroke-miterlimit=\"10.0375\" stroke-width=\"0.66917\"/>\n",
       "</g>\n",
       "<g transform=\"matrix(0.996264 0 0 0.996264 77.5085 157.542)\">\n",
       "<path d=\"M 143.55 -4.48075L 143.55 -6.07575\" fill=\"none\" stroke=\"#000000\" stroke-linecap=\"round\" stroke-linejoin=\"round\" stroke-miterlimit=\"10.0375\" stroke-width=\"0.66917\"/>\n",
       "</g>\n",
       "<g transform=\"matrix(0.996264 0 0 0.996264 77.5085 157.542)\">\n",
       "<path d=\"M 151.525 -4.48075L 151.525 -6.07575\" fill=\"none\" stroke=\"#000000\" stroke-linecap=\"round\" stroke-linejoin=\"round\" stroke-miterlimit=\"10.0375\" stroke-width=\"0.66917\"/>\n",
       "</g>\n",
       "<g transform=\"matrix(0.996264 0 0 0.996264 77.5085 157.542)\">\n",
       "<path d=\"M 0 5.16153L 0 -103.738\" fill=\"none\" stroke=\"#000000\" stroke-linecap=\"round\" stroke-linejoin=\"round\" stroke-miterlimit=\"10.0375\" stroke-width=\"0.66917\"/>\n",
       "</g>\n",
       "<use x=\"57.908788\" y=\"128.141403\" xlink:href=\"#g1-48\"/>\n",
       "<use x=\"63.761778\" y=\"128.141403\" xlink:href=\"#g0-58\"/>\n",
       "<use x=\"67.01344\" y=\"128.141403\" xlink:href=\"#g1-53\"/>\n",
       "<use x=\"57.908788\" y=\"99.412679\" xlink:href=\"#g1-49\"/>\n",
       "<use x=\"63.761778\" y=\"99.412679\" xlink:href=\"#g0-58\"/>\n",
       "<use x=\"67.01344\" y=\"99.412679\" xlink:href=\"#g1-48\"/>\n",
       "<use x=\"57.908788\" y=\"70.683956\" xlink:href=\"#g1-49\"/>\n",
       "<use x=\"63.761778\" y=\"70.683956\" xlink:href=\"#g0-58\"/>\n",
       "<use x=\"67.01344\" y=\"70.683956\" xlink:href=\"#g1-53\"/>\n",
       "<g transform=\"matrix(0.996264 0 0 0.996264 77.5085 157.542)\">\n",
       "<path d=\"M 0 -33.3172L 2.65834 -33.3172\" fill=\"none\" stroke=\"#000000\" stroke-linecap=\"round\" stroke-linejoin=\"round\" stroke-miterlimit=\"10.0375\" stroke-width=\"0.66917\"/>\n",
       "</g>\n",
       "<g transform=\"matrix(0.996264 0 0 0.996264 77.5085 157.542)\">\n",
       "<path d=\"M 0 -62.1535L 2.65834 -62.1535\" fill=\"none\" stroke=\"#000000\" stroke-linecap=\"round\" stroke-linejoin=\"round\" stroke-miterlimit=\"10.0375\" stroke-width=\"0.66917\"/>\n",
       "</g>\n",
       "<g transform=\"matrix(0.996264 0 0 0.996264 77.5085 157.542)\">\n",
       "<path d=\"M 0 -90.9903L 2.65834 -90.9903\" fill=\"none\" stroke=\"#000000\" stroke-linecap=\"round\" stroke-linejoin=\"round\" stroke-miterlimit=\"10.0375\" stroke-width=\"0.66917\"/>\n",
       "</g>\n",
       "<g transform=\"matrix(0.996264 0 0 0.996264 77.5085 157.542)\">\n",
       "<path d=\"M 0 1.28655L 1.595 1.28655\" fill=\"none\" stroke=\"#000000\" stroke-linecap=\"round\" stroke-linejoin=\"round\" stroke-miterlimit=\"10.0375\" stroke-width=\"0.66917\"/>\n",
       "</g>\n",
       "<g transform=\"matrix(0.996264 0 0 0.996264 77.5085 157.542)\">\n",
       "<path d=\"M 0 -10.248L 1.595 -10.248\" fill=\"none\" stroke=\"#000000\" stroke-linecap=\"round\" stroke-linejoin=\"round\" stroke-miterlimit=\"10.0375\" stroke-width=\"0.66917\"/>\n",
       "</g>\n",
       "<g transform=\"matrix(0.996264 0 0 0.996264 77.5085 157.542)\">\n",
       "<path d=\"M 0 -16.0153L 1.595 -16.0153\" fill=\"none\" stroke=\"#000000\" stroke-linecap=\"round\" stroke-linejoin=\"round\" stroke-miterlimit=\"10.0375\" stroke-width=\"0.66917\"/>\n",
       "</g>\n",
       "<g transform=\"matrix(0.996264 0 0 0.996264 77.5085 157.542)\">\n",
       "<path d=\"M 0 -21.7826L 1.595 -21.7826\" fill=\"none\" stroke=\"#000000\" stroke-linecap=\"round\" stroke-linejoin=\"round\" stroke-miterlimit=\"10.0375\" stroke-width=\"0.66917\"/>\n",
       "</g>\n",
       "<g transform=\"matrix(0.996264 0 0 0.996264 77.5085 157.542)\">\n",
       "<path d=\"M 0 -27.5499L 1.595 -27.5499\" fill=\"none\" stroke=\"#000000\" stroke-linecap=\"round\" stroke-linejoin=\"round\" stroke-miterlimit=\"10.0375\" stroke-width=\"0.66917\"/>\n",
       "</g>\n",
       "<g transform=\"matrix(0.996264 0 0 0.996264 77.5085 157.542)\">\n",
       "<path d=\"M 0 -39.0845L 1.595 -39.0845\" fill=\"none\" stroke=\"#000000\" stroke-linecap=\"round\" stroke-linejoin=\"round\" stroke-miterlimit=\"10.0375\" stroke-width=\"0.66917\"/>\n",
       "</g>\n",
       "<g transform=\"matrix(0.996264 0 0 0.996264 77.5085 157.542)\">\n",
       "<path d=\"M 0 -44.8517L 1.595 -44.8517\" fill=\"none\" stroke=\"#000000\" stroke-linecap=\"round\" stroke-linejoin=\"round\" stroke-miterlimit=\"10.0375\" stroke-width=\"0.66917\"/>\n",
       "</g>\n",
       "<g transform=\"matrix(0.996264 0 0 0.996264 77.5085 157.542)\">\n",
       "<path d=\"M 0 -50.6193L 1.595 -50.6193\" fill=\"none\" stroke=\"#000000\" stroke-linecap=\"round\" stroke-linejoin=\"round\" stroke-miterlimit=\"10.0375\" stroke-width=\"0.66917\"/>\n",
       "</g>\n",
       "<g transform=\"matrix(0.996264 0 0 0.996264 77.5085 157.542)\">\n",
       "<path d=\"M 0 -56.3864L 1.595 -56.3864\" fill=\"none\" stroke=\"#000000\" stroke-linecap=\"round\" stroke-linejoin=\"round\" stroke-miterlimit=\"10.0375\" stroke-width=\"0.66917\"/>\n",
       "</g>\n",
       "<g transform=\"matrix(0.996264 0 0 0.996264 77.5085 157.542)\">\n",
       "<path d=\"M 0 -67.921L 1.595 -67.921\" fill=\"none\" stroke=\"#000000\" stroke-linecap=\"round\" stroke-linejoin=\"round\" stroke-miterlimit=\"10.0375\" stroke-width=\"0.66917\"/>\n",
       "</g>\n",
       "<g transform=\"matrix(0.996264 0 0 0.996264 77.5085 157.542)\">\n",
       "<path d=\"M 0 -73.6881L 1.595 -73.6881\" fill=\"none\" stroke=\"#000000\" stroke-linecap=\"round\" stroke-linejoin=\"round\" stroke-miterlimit=\"10.0375\" stroke-width=\"0.66917\"/>\n",
       "</g>\n",
       "<g transform=\"matrix(0.996264 0 0 0.996264 77.5085 157.542)\">\n",
       "<path d=\"M 0 -79.4556L 1.595 -79.4556\" fill=\"none\" stroke=\"#000000\" stroke-linecap=\"round\" stroke-linejoin=\"round\" stroke-miterlimit=\"10.0375\" stroke-width=\"0.66917\"/>\n",
       "</g>\n",
       "<g transform=\"matrix(0.996264 0 0 0.996264 77.5085 157.542)\">\n",
       "<path d=\"M 0 -85.2227L 1.595 -85.2227\" fill=\"none\" stroke=\"#000000\" stroke-linecap=\"round\" stroke-linejoin=\"round\" stroke-miterlimit=\"10.0375\" stroke-width=\"0.66917\"/>\n",
       "</g>\n",
       "<g transform=\"matrix(0.996264 0 0 0.996264 77.5085 157.542)\">\n",
       "<path d=\"M 0 -96.7574L 1.595 -96.7574\" fill=\"none\" stroke=\"#000000\" stroke-linecap=\"round\" stroke-linejoin=\"round\" stroke-miterlimit=\"10.0375\" stroke-width=\"0.66917\"/>\n",
       "</g>\n",
       "</g>\n",
       "</svg>"
      ],
      "text/plain": [
       "<IPython.core.display.SVG object>"
      ]
     },
     "metadata": {},
     "output_type": "display_data"
    },
    {
     "data": {},
     "execution_count": 16,
     "metadata": {},
     "output_type": "execute_result"
    },
    {
     "name": "stderr",
     "output_type": "stream",
     "text": [
      "\u001b[0;31mExportString::optx: ImageSize -> 300 is not a supported option for ExportString[].\n",
      "\u001b[0m"
     ]
    },
    {
     "data": {
      "image/svg+xml": [
       "<svg xmlns=\"http://www.w3.org/2000/svg\" xmlns:xlink=\"http://www.w3.org/1999/xlink\" version=\"1.1\" width=\"189.9996pt\" height=\"158.9797pt\" viewBox=\"56.4094 53.8583 189.9996 158.9797\">\n",
       "<g id=\"page1\">\n",
       "<image x=\"56.413267\" y=\"53.798257\" width=\"189.999502\" height=\"158.979826\" xlink:href=\"/tmp/tmp4vhurri__0.png\"/>\n",
       "</g>\n",
       "</svg>"
      ],
      "text/plain": [
       "<IPython.core.display.SVG object>"
      ]
     },
     "metadata": {},
     "output_type": "display_data"
    },
    {
     "data": {},
     "execution_count": 17,
     "metadata": {},
     "output_type": "execute_result"
    },
    {
     "name": "stderr",
     "output_type": "stream",
     "text": [
      "\u001b[0;31mExportString::optx: ImageSize -> 300 is not a supported option for ExportString[].\n",
      "\u001b[0m\u001b[0;31mSystem`Convert`TextDump`ExportToSVG::asyfld: Asymptote failed to generate the file\n",
      "\u001b[0m"
     ]
    }
   ],
   "source": [
    "Jupyter`SetImagesWidth[500];\n",
    "Jypyter`SetImageOutputFormat[\"png\"]\n",
    "\n",
    "G2 = Plot[f[x,0],{x,0,2}]\n",
    "\n",
    "\n",
    "G3 = Plot3D[f[x,y],{x,0,2},{y,0,2}]\n",
    "\n",
    "Jupyter`SetImagesWidth[800];\n",
    "\n",
    "\n",
    "TableForm[{{\"Section\",G2},{\"Full\",G3}}]\n"
   ]
  },
  {
   "cell_type": "code",
   "execution_count": null,
   "metadata": {},
   "outputs": [
    {
     "name": "stdout",
     "output_type": "stream",
     "text": [
      "failed to decode string:SnVweXRlcmBQcml2YXRlYEp1cHl0ZXJSZXR1cm4zRFRocmVl\n",
      "M:16:Out[3]= Null\n",
      "      after strip b'Jupyter`Private`JupyterReturn3DThree3^\\x8e\\xba\\xdd'\n"
     ]
    }
   ],
   "source": [
    "InteractiveGraphics3D[\"On\"]\n",
    "\n",
    "Plot3D[f[x,y],{x,0,2},{y,0,2}]"
   ]
  },
  {
   "cell_type": "code",
   "execution_count": null,
   "metadata": {
    "ExecuteTime": {
     "end_time": "2016-11-03T10:06:01.484029",
     "start_time": "2016-11-03T10:06:01.280664"
    }
   },
   "outputs": [],
   "source": [
    "Play[Sin[2*Pi*440 t],{t,0,2}]"
   ]
  },
  {
   "cell_type": "code",
   "execution_count": 19,
   "metadata": {
    "ExecuteTime": {
     "end_time": "2016-11-03T10:07:53.070036",
     "start_time": "2016-11-03T10:07:53.068216"
    },
    "code_folding": []
   },
   "outputs": [
    {
     "name": "stderr",
     "output_type": "stream",
     "text": [
      "\u001b[0;31mSyntax::sntxf: \"Identity[(f[sdfdsf\" cannot be followed by \")]]\" (line 1 of \"\").\n",
      "\u001b[0m"
     ]
    }
   ],
   "source": [
    "(f[sdfdsf)]"
   ]
  },
  {
   "cell_type": "code",
   "execution_count": 20,
   "metadata": {
    "ExecuteTime": {
     "end_time": "2016-11-03T10:07:27.361187",
     "start_time": "2016-11-03T10:07:27.358200"
    }
   },
   "outputs": [
    {
     "name": "stderr",
     "output_type": "stream",
     "text": [
      "\u001b[0;31mSyntax::sntxf: \"Identity[{ssdfdsf\" cannot be followed by \"]\" (line 1 of \"\").\n",
      "\u001b[0m"
     ]
    }
   ],
   "source": [
    "{ssdfdsf"
   ]
  },
  {
   "cell_type": "code",
   "execution_count": 21,
   "metadata": {
    "ExecuteTime": {
     "end_time": "2016-11-03T10:07:31.507989",
     "start_time": "2016-11-03T10:07:31.505644"
    }
   },
   "outputs": [
    {
     "name": "stderr",
     "output_type": "stream",
     "text": [
      "\u001b[0;31m('Syntax::sntxi', -1, 'sntxi')\n",
      "\u001b[0m"
     ]
    },
    {
     "data": {
      "text/plain": [
       "null:"
      ]
     },
     "execution_count": 21,
     "metadata": {},
     "output_type": "execute_result"
    }
   ],
   "source": [
    "\"sdfsdf"
   ]
  },
  {
   "cell_type": "code",
   "execution_count": null,
   "metadata": {},
   "outputs": [],
   "source": []
  },
  {
   "cell_type": "code",
   "execution_count": null,
   "metadata": {},
   "outputs": [],
   "source": []
  }
 ],
 "metadata": {
  "hide_input": false,
  "kernelspec": {
   "display_name": "Wolfram Mathematica",
   "language": "mathematica",
   "name": "wolfram_kernel"
  },
  "language_info": {
   "codemirror_mode": "mathematica",
   "exec": "/home/mauricio/.conda/envs/mathics3/bin/mathics",
   "file_extension": ".m",
   "help_links": [
    {
     "text": "MetaKernel Magics",
     "url": "https://metakernel.readthedocs.io/en/latest/source/README.html"
    }
   ],
   "mimetype": "text/x-mathics",
   "name": "Mathematica",
   "version": "0.0.0"
  },
  "toc": {
   "toc_cell": false,
   "toc_number_sections": true,
   "toc_threshold": 6,
   "toc_window_display": false
  }
 },
 "nbformat": 4,
 "nbformat_minor": 1
}
